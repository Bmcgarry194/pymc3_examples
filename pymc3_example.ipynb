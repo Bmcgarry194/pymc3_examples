{
 "cells": [
  {
   "cell_type": "code",
   "execution_count": null,
   "metadata": {},
   "outputs": [],
   "source": [
    "import numpy as np\n",
    "import matplotlib.pyplot as plt\n",
    "\n",
    "plt.style.use('seaborn-deep')\n",
    "\n",
    "# Initialize random number generator\n",
    "np.random.seed(10)\n",
    "\n",
    "# True parameter values\n",
    "alpha_true, sigma = 1, 1\n",
    "beta_true = 2.5 \n",
    "\n",
    "# Size of dataset\n",
    "size = 100\n",
    "\n",
    "# Predictor variable\n",
    "X1 = np.random.randn(size) + 3\n",
    "\n",
    "# Simulate outcome variable\n",
    "Y = alpha_true + beta_true*X1 + np.random.randn(size)*sigma"
   ]
  },
  {
   "cell_type": "code",
   "execution_count": null,
   "metadata": {},
   "outputs": [],
   "source": [
    "fig, axes = plt.subplots(figsize=(10, 10))\n",
    "\n",
    "x_true = np.linspace(0, 7, size)\n",
    "y_true = alpha_true + beta_true*x\n",
    "\n",
    "axes.plot(x_true, y_true, 'r--')\n",
    "\n",
    "axes.scatter(X1, Y)\n",
    "axes.set_ylabel('Y'); axes.set_xlabel('X1');"
   ]
  },
  {
   "cell_type": "code",
   "execution_count": null,
   "metadata": {},
   "outputs": [],
   "source": [
    "# If you do not have pymc3 already installed uncomment line below and run cell\n",
    "# !conda install -c conda-forge pymc3"
   ]
  },
  {
   "cell_type": "code",
   "execution_count": null,
   "metadata": {},
   "outputs": [],
   "source": [
    "import pymc3 as pm\n",
    "\n",
    "print('Running on PyMC3 v{}'.format(pm.__version__))"
   ]
  },
  {
   "cell_type": "code",
   "execution_count": null,
   "metadata": {},
   "outputs": [],
   "source": [
    "basic_model = pm.Model()\n",
    "\n",
    "with basic_model:\n",
    "\n",
    "    # Priors for unknown model parameters\n",
    "    alpha = pm.Normal('alpha', mu=0, sigma=10)\n",
    "    beta = pm.Normal('beta', mu=0, sigma=10)\n",
    "    sigma = pm.HalfNormal('sigma', sigma=1)\n",
    "\n",
    "    # Expected value of outcome\n",
    "    mu = alpha + beta*X1\n",
    "\n",
    "    # Likelihood (sampling distribution) of observations\n",
    "    Y_obs = pm.Normal('Y_obs', mu=mu, sigma=sigma, observed=Y)"
   ]
  },
  {
   "cell_type": "code",
   "execution_count": null,
   "metadata": {},
   "outputs": [],
   "source": [
    "with basic_model:\n",
    "    trace = pm.sample(2000)"
   ]
  },
  {
   "cell_type": "code",
   "execution_count": null,
   "metadata": {},
   "outputs": [],
   "source": [
    "pm.traceplot(trace);"
   ]
  },
  {
   "cell_type": "code",
   "execution_count": null,
   "metadata": {},
   "outputs": [],
   "source": [
    "pm.summary(trace).round(2)\n",
    "#Alpha = 1, Beta = 2.5"
   ]
  },
  {
   "cell_type": "code",
   "execution_count": null,
   "metadata": {},
   "outputs": [],
   "source": [
    "fig, ax = plt.subplots(figsize=(10, 10))\n",
    "\n",
    "x_true = np.linspace(0, 7, size)\n",
    "y_true = alpha_true + beta_true*x\n",
    "\n",
    "trace_points = list(trace.points())\n",
    "\n",
    "for _ in range(1000):\n",
    "    points = np.random.choice(trace_points)\n",
    "    alpha, beta = points['alpha'], points['beta']\n",
    "    x = np.linspace(0, 7, size)\n",
    "    y = alpha + beta*x\n",
    "    ax.plot(x, y, alpha=.07, color='gray')\n",
    "    \n",
    "    \n",
    "#Data\n",
    "ax.scatter(X1, Y, marker='x')\n",
    "\n",
    "#True trend\n",
    "ax.plot(x_true, y_true,'r--');"
   ]
  }
 ],
 "metadata": {
  "kernelspec": {
   "display_name": "Python 3",
   "language": "python",
   "name": "python3"
  },
  "language_info": {
   "codemirror_mode": {
    "name": "ipython",
    "version": 3
   },
   "file_extension": ".py",
   "mimetype": "text/x-python",
   "name": "python",
   "nbconvert_exporter": "python",
   "pygments_lexer": "ipython3",
   "version": "3.7.3"
  }
 },
 "nbformat": 4,
 "nbformat_minor": 4
}
